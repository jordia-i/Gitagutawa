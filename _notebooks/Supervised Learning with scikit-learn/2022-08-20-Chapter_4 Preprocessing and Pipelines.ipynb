{
  "cells": [
    {
      "cell_type": "markdown",
      "metadata": {
        "id": "view-in-github",
        "colab_type": "text"
      },
      "source": [
        "<a href=\"https://colab.research.google.com/github/jordia-i/Gitagutawa/blob/master/_notebooks/Supervised%20Learning%20with%20scikit-learn/2022-08-20-Chapter_4%20Preprocessing%20and%20Pipelines.ipynb\" target=\"_parent\"><img src=\"https://colab.research.google.com/assets/colab-badge.svg\" alt=\"Open In Colab\"/></a>"
      ]
    },
    {
      "cell_type": "markdown",
      "metadata": {
        "id": "esxFbZAAwLf9"
      },
      "source": [
        "# Supervised Learning with scikit-learn - Part 4\n",
        "\n",
        "> Chapter 4 - Preprocessing and Pipelines\n",
        "\n",
        "- toc: true\n",
        "- branch: master\n",
        "- badges: true\n",
        "- comments: true\n",
        "- author: Hai Nguyen\n",
        "- categories: [Datacamp, Machine Learning, Supervised Learning, Python, Classification, Overfitting, Underfitting, scikit-learn]\n",
        "- image: images/supervised_learning_p4.png\n",
        "- hide: false\n",
        "- search_exclude: true\n",
        "- metadata_key1: metadata_value1\n",
        "- metadata_key2: metadata_value2\n"
      ]
    },
    {
      "cell_type": "markdown",
      "metadata": {
        "id": "tWLqjfw8wLf9"
      },
      "source": [
        "[**Download Datasets and Presentation slides for this post HERE**](https://github.com/anhhaibkhn/Data-Science-selfstudy-notes-Blog/tree/master/_notebooks/Supervised%20Learning%20with%20scikit-learn)"
      ]
    },
    {
      "cell_type": "markdown",
      "metadata": {
        "id": "8oBgZxorwLf-"
      },
      "source": [
        "> Learn how to impute missing values, convert categorical data to numeric values, scale data, evaluate multiple supervised learning models simultaneously, and build pipelines to streamline your workflow!"
      ]
    },
    {
      "cell_type": "code",
      "execution_count": null,
      "metadata": {
        "id": "0KjzQo1zwLf-"
      },
      "outputs": [],
      "source": [
        "import pandas as pd\n",
        "import numpy as np\n",
        "import warnings\n",
        "\n",
        "pd.set_option('display.expand_frame_repr', False)\n",
        "\n",
        "warnings.filterwarnings(\"ignore\", category=DeprecationWarning)\n",
        "warnings.filterwarnings(\"ignore\", category=FutureWarning)"
      ]
    },
    {
      "cell_type": "markdown",
      "metadata": {
        "id": "oqyy65PCwLf-"
      },
      "source": [
        "\n",
        "## Preprocessing data\n",
        "\n",
        "scikit-learn requirements:\n",
        "- Numeric data\n",
        "- No missing values\n",
        "- With real-world data:\n",
        "    - This is rarely the case\n",
        "    - We will often need to preprocess our data first\n",
        "\n",
        "\n",
        "### Example of Dealing with categorical features\n",
        "\n",
        "- scikit-learn will not accept categorical features by default\n",
        "- Need to convert categorical features into numeric values\n",
        "- Convert to binary features called dummy variables:\n",
        "    - 0: Observation was NOT that category\n",
        "    - 1: Observation was that category\n",
        "\n",
        "![](https://github.com/anhhaibkhn/Data-Science-selfstudy-notes-Blog/blob/master/_notebooks/Supervised%20Learning%20with%20scikit-learn/images/dummies.png?raw=1)"
      ]
    },
    {
      "cell_type": "markdown",
      "metadata": {
        "id": "OHmyvi62wLf-"
      },
      "source": [
        "We can reduce the **Rock** column, as if all other columns are zeros, then it should be **Rock** genre.\n",
        "\n",
        "### Dealing with categorical features in Python\n",
        "- scikit-learn:``` OneHotEncoder()```\n",
        "- pandas: ```get_dummies()```\n",
        "\n",
        "\n",
        "### Music dataset\n",
        "- popularity : Target variable\n",
        "- genre : Categorical feature\n"
      ]
    },
    {
      "cell_type": "code",
      "execution_count": null,
      "metadata": {
        "id": "9T8HW2UOwLf_",
        "outputId": "eeb68f40-0c65-45d7-d076-f0214ce9a431"
      },
      "outputs": [
        {
          "data": {
            "text/html": [
              "<div>\n",
              "<style scoped>\n",
              "    .dataframe tbody tr th:only-of-type {\n",
              "        vertical-align: middle;\n",
              "    }\n",
              "\n",
              "    .dataframe tbody tr th {\n",
              "        vertical-align: top;\n",
              "    }\n",
              "\n",
              "    .dataframe thead th {\n",
              "        text-align: right;\n",
              "    }\n",
              "</style>\n",
              "<table border=\"1\" class=\"dataframe\">\n",
              "  <thead>\n",
              "    <tr style=\"text-align: right;\">\n",
              "      <th></th>\n",
              "      <th>popularity</th>\n",
              "      <th>acousticness</th>\n",
              "      <th>danceability</th>\n",
              "      <th>duration_ms</th>\n",
              "      <th>energy</th>\n",
              "      <th>instrumentalness</th>\n",
              "      <th>liveness</th>\n",
              "      <th>loudness</th>\n",
              "      <th>speechiness</th>\n",
              "      <th>tempo</th>\n",
              "      <th>valence</th>\n",
              "      <th>genre</th>\n",
              "    </tr>\n",
              "  </thead>\n",
              "  <tbody>\n",
              "    <tr>\n",
              "      <th>36506</th>\n",
              "      <td>60.0</td>\n",
              "      <td>0.896000</td>\n",
              "      <td>0.726</td>\n",
              "      <td>214547.0</td>\n",
              "      <td>0.177</td>\n",
              "      <td>0.000002</td>\n",
              "      <td>0.1160</td>\n",
              "      <td>-14.824</td>\n",
              "      <td>0.0353</td>\n",
              "      <td>92.934</td>\n",
              "      <td>0.618</td>\n",
              "      <td>1</td>\n",
              "    </tr>\n",
              "    <tr>\n",
              "      <th>37591</th>\n",
              "      <td>63.0</td>\n",
              "      <td>0.003840</td>\n",
              "      <td>0.635</td>\n",
              "      <td>190448.0</td>\n",
              "      <td>0.908</td>\n",
              "      <td>0.083400</td>\n",
              "      <td>0.2390</td>\n",
              "      <td>-4.795</td>\n",
              "      <td>0.0563</td>\n",
              "      <td>110.012</td>\n",
              "      <td>0.637</td>\n",
              "      <td>1</td>\n",
              "    </tr>\n",
              "    <tr>\n",
              "      <th>37658</th>\n",
              "      <td>59.0</td>\n",
              "      <td>0.000075</td>\n",
              "      <td>0.352</td>\n",
              "      <td>456320.0</td>\n",
              "      <td>0.956</td>\n",
              "      <td>0.020300</td>\n",
              "      <td>0.1250</td>\n",
              "      <td>-3.634</td>\n",
              "      <td>0.1490</td>\n",
              "      <td>122.897</td>\n",
              "      <td>0.228</td>\n",
              "      <td>1</td>\n",
              "    </tr>\n",
              "    <tr>\n",
              "      <th>36060</th>\n",
              "      <td>54.0</td>\n",
              "      <td>0.945000</td>\n",
              "      <td>0.488</td>\n",
              "      <td>352280.0</td>\n",
              "      <td>0.326</td>\n",
              "      <td>0.015700</td>\n",
              "      <td>0.1190</td>\n",
              "      <td>-12.020</td>\n",
              "      <td>0.0328</td>\n",
              "      <td>106.063</td>\n",
              "      <td>0.323</td>\n",
              "      <td>1</td>\n",
              "    </tr>\n",
              "    <tr>\n",
              "      <th>35710</th>\n",
              "      <td>55.0</td>\n",
              "      <td>0.245000</td>\n",
              "      <td>0.667</td>\n",
              "      <td>273693.0</td>\n",
              "      <td>0.647</td>\n",
              "      <td>0.000297</td>\n",
              "      <td>0.0633</td>\n",
              "      <td>-7.787</td>\n",
              "      <td>0.0487</td>\n",
              "      <td>143.995</td>\n",
              "      <td>0.300</td>\n",
              "      <td>1</td>\n",
              "    </tr>\n",
              "  </tbody>\n",
              "</table>\n",
              "</div>"
            ],
            "text/plain": [
              "       popularity  acousticness  danceability  duration_ms  energy  instrumentalness  liveness  loudness  speechiness    tempo  valence  genre\n",
              "36506        60.0      0.896000         0.726     214547.0   0.177          0.000002    0.1160   -14.824       0.0353   92.934    0.618      1\n",
              "37591        63.0      0.003840         0.635     190448.0   0.908          0.083400    0.2390    -4.795       0.0563  110.012    0.637      1\n",
              "37658        59.0      0.000075         0.352     456320.0   0.956          0.020300    0.1250    -3.634       0.1490  122.897    0.228      1\n",
              "36060        54.0      0.945000         0.488     352280.0   0.326          0.015700    0.1190   -12.020       0.0328  106.063    0.323      1\n",
              "35710        55.0      0.245000         0.667     273693.0   0.647          0.000297    0.0633    -7.787       0.0487  143.995    0.300      1"
            ]
          },
          "metadata": {},
          "output_type": "display_data"
        },
        {
          "name": "stdout",
          "output_type": "stream",
          "text": [
            "['popularity', 'acousticness', 'danceability', 'duration_ms', 'energy', 'instrumentalness', 'liveness', 'loudness', 'speechiness', 'tempo', 'valence', 'genre']\n",
            "<class 'pandas.core.frame.DataFrame'>\n",
            "Int64Index: 1000 entries, 36506 to 18960\n",
            "Data columns (total 12 columns):\n",
            " #   Column            Non-Null Count  Dtype  \n",
            "---  ------            --------------  -----  \n",
            " 0   popularity        1000 non-null   float64\n",
            " 1   acousticness      1000 non-null   float64\n",
            " 2   danceability      1000 non-null   float64\n",
            " 3   duration_ms       1000 non-null   float64\n",
            " 4   energy            1000 non-null   float64\n",
            " 5   instrumentalness  1000 non-null   float64\n",
            " 6   liveness          1000 non-null   float64\n",
            " 7   loudness          1000 non-null   float64\n",
            " 8   speechiness       1000 non-null   float64\n",
            " 9   tempo             1000 non-null   float64\n",
            " 10  valence           1000 non-null   float64\n",
            " 11  genre             1000 non-null   int64  \n",
            "dtypes: float64(11), int64(1)\n",
            "memory usage: 101.6 KB\n",
            "None\n"
          ]
        }
      ],
      "source": [
        "music_clean_df = pd.read_csv('./datasets/music_clean.csv',index_col=[0])\n",
        "display(music_clean_df.head())\n",
        "cols = music_clean_df.columns.to_list()\n",
        "print(cols)\n",
        "print(music_clean_df.info())"
      ]
    },
    {
      "cell_type": "code",
      "execution_count": null,
      "metadata": {
        "id": "2q0eun5dwLf_",
        "outputId": "28bf6c66-3e56-4eea-e962-15b1c2d2de80"
      },
      "outputs": [
        {
          "name": "stdout",
          "output_type": "stream",
          "text": [
            "<class 'pandas.core.frame.DataFrame'>\n",
            "RangeIndex: 1000 entries, 0 to 999\n",
            "Data columns (total 12 columns):\n",
            " #   Column            Non-Null Count  Dtype  \n",
            "---  ------            --------------  -----  \n",
            " 0   popularity        1000 non-null   float64\n",
            " 1   acousticness      1000 non-null   float64\n",
            " 2   danceability      1000 non-null   float64\n",
            " 3   duration_ms       1000 non-null   float64\n",
            " 4   energy            1000 non-null   float64\n",
            " 5   instrumentalness  1000 non-null   float64\n",
            " 6   liveness          1000 non-null   float64\n",
            " 7   loudness          1000 non-null   float64\n",
            " 8   speechiness       1000 non-null   float64\n",
            " 9   tempo             1000 non-null   float64\n",
            " 10  valence           1000 non-null   float64\n",
            " 11  genre             1000 non-null   object \n",
            "dtypes: float64(11), object(1)\n",
            "memory usage: 93.9+ KB\n",
            "None\n"
          ]
        },
        {
          "data": {
            "text/html": [
              "<div>\n",
              "<style scoped>\n",
              "    .dataframe tbody tr th:only-of-type {\n",
              "        vertical-align: middle;\n",
              "    }\n",
              "\n",
              "    .dataframe tbody tr th {\n",
              "        vertical-align: top;\n",
              "    }\n",
              "\n",
              "    .dataframe thead th {\n",
              "        text-align: right;\n",
              "    }\n",
              "</style>\n",
              "<table border=\"1\" class=\"dataframe\">\n",
              "  <thead>\n",
              "    <tr style=\"text-align: right;\">\n",
              "      <th></th>\n",
              "      <th>popularity</th>\n",
              "      <th>acousticness</th>\n",
              "      <th>danceability</th>\n",
              "      <th>duration_ms</th>\n",
              "      <th>energy</th>\n",
              "      <th>instrumentalness</th>\n",
              "      <th>liveness</th>\n",
              "      <th>loudness</th>\n",
              "      <th>speechiness</th>\n",
              "      <th>tempo</th>\n",
              "      <th>valence</th>\n",
              "      <th>genre</th>\n",
              "    </tr>\n",
              "  </thead>\n",
              "  <tbody>\n",
              "    <tr>\n",
              "      <th>0</th>\n",
              "      <td>32.0</td>\n",
              "      <td>0.9890</td>\n",
              "      <td>0.403</td>\n",
              "      <td>192013.0</td>\n",
              "      <td>0.0467</td>\n",
              "      <td>0.874000</td>\n",
              "      <td>0.149</td>\n",
              "      <td>-22.857</td>\n",
              "      <td>0.0456</td>\n",
              "      <td>124.043</td>\n",
              "      <td>0.559</td>\n",
              "      <td>Classical</td>\n",
              "    </tr>\n",
              "    <tr>\n",
              "      <th>1</th>\n",
              "      <td>44.0</td>\n",
              "      <td>0.7880</td>\n",
              "      <td>0.119</td>\n",
              "      <td>271520.0</td>\n",
              "      <td>0.3460</td>\n",
              "      <td>0.000022</td>\n",
              "      <td>0.129</td>\n",
              "      <td>-8.093</td>\n",
              "      <td>0.0376</td>\n",
              "      <td>64.630</td>\n",
              "      <td>0.135</td>\n",
              "      <td>Classical</td>\n",
              "    </tr>\n",
              "    <tr>\n",
              "      <th>2</th>\n",
              "      <td>77.0</td>\n",
              "      <td>0.0931</td>\n",
              "      <td>0.620</td>\n",
              "      <td>234213.0</td>\n",
              "      <td>0.6900</td>\n",
              "      <td>0.000000</td>\n",
              "      <td>0.131</td>\n",
              "      <td>-6.508</td>\n",
              "      <td>0.0493</td>\n",
              "      <td>133.935</td>\n",
              "      <td>0.331</td>\n",
              "      <td>Rap</td>\n",
              "    </tr>\n",
              "    <tr>\n",
              "      <th>3</th>\n",
              "      <td>59.0</td>\n",
              "      <td>0.0942</td>\n",
              "      <td>0.919</td>\n",
              "      <td>296587.0</td>\n",
              "      <td>0.6770</td>\n",
              "      <td>0.000000</td>\n",
              "      <td>0.594</td>\n",
              "      <td>-8.642</td>\n",
              "      <td>0.2540</td>\n",
              "      <td>131.050</td>\n",
              "      <td>0.875</td>\n",
              "      <td>Rap</td>\n",
              "    </tr>\n",
              "    <tr>\n",
              "      <th>4</th>\n",
              "      <td>35.0</td>\n",
              "      <td>0.0278</td>\n",
              "      <td>0.460</td>\n",
              "      <td>276880.0</td>\n",
              "      <td>0.8990</td>\n",
              "      <td>0.000000</td>\n",
              "      <td>0.267</td>\n",
              "      <td>-2.894</td>\n",
              "      <td>0.0481</td>\n",
              "      <td>158.000</td>\n",
              "      <td>0.650</td>\n",
              "      <td>Anime</td>\n",
              "    </tr>\n",
              "  </tbody>\n",
              "</table>\n",
              "</div>"
            ],
            "text/plain": [
              "   popularity  acousticness  danceability  duration_ms  energy  instrumentalness  liveness  loudness  speechiness    tempo  valence      genre\n",
              "0        32.0        0.9890         0.403     192013.0  0.0467          0.874000     0.149   -22.857       0.0456  124.043    0.559  Classical\n",
              "1        44.0        0.7880         0.119     271520.0  0.3460          0.000022     0.129    -8.093       0.0376   64.630    0.135  Classical\n",
              "2        77.0        0.0931         0.620     234213.0  0.6900          0.000000     0.131    -6.508       0.0493  133.935    0.331        Rap\n",
              "3        59.0        0.0942         0.919     296587.0  0.6770          0.000000     0.594    -8.642       0.2540  131.050    0.875        Rap\n",
              "4        35.0        0.0278         0.460     276880.0  0.8990          0.000000     0.267    -2.894       0.0481  158.000    0.650      Anime"
            ]
          },
          "metadata": {},
          "output_type": "display_data"
        }
      ],
      "source": [
        "music_df_full = pd.read_csv('./datasets/music_genre.csv',index_col=0)\n",
        "music_df_full.rename(columns={'music_genre': 'genre'}, inplace=True)\n",
        "music_df_full = music_df_full.loc[music_df_full['tempo'] != '?']\n",
        "\n",
        "music_df = music_df_full[cols].sample(1000)\n",
        "music_df['tempo'] = music_df['tempo'].astype(float)\n",
        "\n",
        "music_df.reset_index(drop=True, inplace=True)\n",
        "\n",
        "print(music_df.info())\n",
        "display(music_df.head())\n",
        "\n"
      ]
    },
    {
      "cell_type": "code",
      "execution_count": null,
      "metadata": {
        "id": "61mMERnawLf_",
        "outputId": "19f588aa-3a57-45c0-f3a6-1642fff1e02a"
      },
      "outputs": [
        {
          "name": "stdout",
          "output_type": "stream",
          "text": [
            "   Anime  Blues  Classical  Country  Electronic  Hip-Hop  Jazz  Rap  Rock\n",
            "0      0      0          1        0           0        0     0    0     0\n",
            "1      0      0          1        0           0        0     0    0     0\n",
            "2      0      0          0        0           0        0     0    1     0\n",
            "3      0      0          0        0           0        0     0    1     0\n",
            "4      1      0          0        0           0        0     0    0     0\n"
          ]
        }
      ],
      "source": [
        "music_dummies = pd.get_dummies(music_df['genre'], drop_first=True)\n",
        "print(music_dummies.head())"
      ]
    },
    {
      "cell_type": "code",
      "execution_count": null,
      "metadata": {
        "id": "1nyKIGVFwLf_"
      },
      "outputs": [],
      "source": [
        "music_dummies = pd.concat([music_df, music_dummies], axis=1)\n",
        "music_dummies = music_dummies.drop(\"genre\", axis=1)"
      ]
    },
    {
      "cell_type": "code",
      "execution_count": null,
      "metadata": {
        "id": "folL4MNTwLgA",
        "outputId": "6aebf845-44b1-49c2-8cbc-86ba9f2a1fdd"
      },
      "outputs": [
        {
          "name": "stdout",
          "output_type": "stream",
          "text": [
            "Index(['popularity', 'acousticness', 'danceability', 'duration_ms', 'energy',\n",
            "       'instrumentalness', 'liveness', 'loudness', 'speechiness', 'tempo',\n",
            "       'valence', 'genre_Anime', 'genre_Blues', 'genre_Classical',\n",
            "       'genre_Country', 'genre_Electronic', 'genre_Hip-Hop', 'genre_Jazz',\n",
            "       'genre_Rap', 'genre_Rock'],\n",
            "      dtype='object')\n"
          ]
        }
      ],
      "source": [
        "# Encoding dummy variables\n",
        "music_dummies = pd.get_dummies(music_df, drop_first=True)\n",
        "print(music_dummies.columns)"
      ]
    },
    {
      "cell_type": "code",
      "execution_count": null,
      "metadata": {
        "id": "Q2aAFbVBwLgA",
        "outputId": "b22d5326-72cf-4fc7-ee08-7ff7ae639d04"
      },
      "outputs": [
        {
          "name": "stdout",
          "output_type": "stream",
          "text": [
            "[8.80667539 9.85254103 8.32772187 9.63119153 9.81925038]\n"
          ]
        }
      ],
      "source": [
        "# Linear regression with dummy variables\n",
        "from sklearn.model_selection import cross_val_score, KFold, train_test_split\n",
        "from sklearn.linear_model import LinearRegression\n",
        "\n",
        "\n",
        "X = music_dummies.drop(\"popularity\", axis=1).values\n",
        "y = music_dummies[\"popularity\"].values\n",
        "X_train, X_test, y_train, y_test = train_test_split(X, y, test_size=0.2, random_state=42)\n",
        "\n",
        "kf = KFold(n_splits=5, shuffle=True, random_state=42)\n",
        "linreg = LinearRegression()\n",
        "linreg_cv = cross_val_score(linreg, X_train, y_train, cv=kf,\n",
        "scoring=\"neg_mean_squared_error\")\n",
        "print(np.sqrt(-linreg_cv))"
      ]
    },
    {
      "cell_type": "markdown",
      "metadata": {
        "id": "Rw0N5lapwLgA"
      },
      "source": [
        "### Creating dummy variables (Exercise)\n",
        "\n",
        "Being able to include categorical features in the model building process can enhance performance as they may add information that contributes to prediction accuracy.\n",
        "\n",
        "The music_df dataset has been preloaded for you, and its shape is printed. Also, pandas has been imported as pd.\n",
        "\n",
        "Now you will create a new DataFrame containing the original columns of music_df plus dummy variables from the \"genre\" column.\n",
        "\n",
        "Instructions:\n",
        "- Use a relevant function, passing the entire music_df DataFrame, to create music_dummies, dropping the first binary column.\n",
        "- Print the shape of music_dummies."
      ]
    },
    {
      "cell_type": "code",
      "execution_count": null,
      "metadata": {
        "id": "vYFo_M2jwLgA",
        "outputId": "b7b33ce4-c475-4d8a-b0ea-179a81949fe4"
      },
      "outputs": [
        {
          "name": "stdout",
          "output_type": "stream",
          "text": [
            "Shape of music_dummies: (1000, 20)\n"
          ]
        }
      ],
      "source": [
        "# Create music_dummies\n",
        "music_dummies = pd.get_dummies(music_df, drop_first=True)\n",
        "\n",
        "# Print the new DataFrame's shape\n",
        "print(\"Shape of music_dummies: {}\".format(music_dummies.shape))"
      ]
    },
    {
      "cell_type": "markdown",
      "metadata": {
        "id": "LybbV4rxwLgA"
      },
      "source": [
        "As there were ten values in the \"genre\" column, nine new columns were added by a call of pd.get_dummies() using drop_first=True. After dropping the original \"genre\" column, there are still eight new columns in the DataFrame!"
      ]
    },
    {
      "cell_type": "markdown",
      "metadata": {
        "id": "7XuXkYhawLgA"
      },
      "source": [
        "### Regression with categorical features (Exercise)\n",
        "\n",
        "Now you have created music_dummies, containing binary features for each song's genre, it's time to build a ridge regression model to predict song popularity.\n",
        "\n",
        "music_dummies has been preloaded for you, along with Ridge, cross_val_score, numpy as np, and a KFold object stored as kf.\n",
        "\n",
        "The model will be evaluated by calculating the average RMSE, but first, you will need to convert the scores for each fold to positive values and take their square root. This metric shows the average error of our model's predictions, so it can be compared against the standard deviation of the target value—\"popularity\".\n",
        "\n",
        "Instructions:\n",
        "- Create X, containing all features in music_dummies, and y, consisting of the \"popularity\" column, respectively.\n",
        "- Instantiate a ridge regression model, setting alpha equal to 0.2.\n",
        "- Perform cross-validation on X and y using the ridge model, setting cv equal to kf, and using negative mean squared error as the scoring metric.\n",
        "- Print the RMSE values by converting negative scores to positive and taking the square"
      ]
    },
    {
      "cell_type": "code",
      "execution_count": null,
      "metadata": {
        "id": "ievYmEJNwLgA",
        "outputId": "50d19272-b245-4e77-c548-c09945cf2d21"
      },
      "outputs": [
        {
          "name": "stdout",
          "output_type": "stream",
          "text": [
            "Average RMSE: 9.420689379783706\n",
            "Standard Deviation of the target array: 15.042007312855555\n"
          ]
        }
      ],
      "source": [
        "\n",
        "from sklearn.linear_model import Ridge\n",
        "# Create X and y\n",
        "X = music_dummies.drop(['popularity'], axis =1).values\n",
        "y = music_dummies['popularity'].values\n",
        "\n",
        "# Instantiate a ridge model\n",
        "ridge = Ridge( alpha=0.2)\n",
        "\n",
        "# Perform cross-validation\n",
        "scores = cross_val_score(ridge, X, y, cv=kf, scoring=\"neg_mean_squared_error\")\n",
        "\n",
        "# Calculate RMSE\n",
        "rmse = np.sqrt(-scores)\n",
        "print(\"Average RMSE: {}\".format(np.mean(rmse)))\n",
        "print(\"Standard Deviation of the target array: {}\".format(np.std(y)))"
      ]
    },
    {
      "cell_type": "markdown",
      "metadata": {
        "id": "tSceD3HzwLgA"
      },
      "source": [
        "Great work! An average RMSE of approximately 9.4 is lower than the standard deviation of the target variable (song popularity), suggesting the model is reasonably accurate."
      ]
    },
    {
      "cell_type": "markdown",
      "metadata": {
        "id": "eQGVW8EuwLgA"
      },
      "source": [
        "\n",
        "## Handling missing data\n",
        "\n",
        "- Missing data\n",
        "- No value for a feature in a particular row\n",
        "- This can occur because:\n",
        "    - There may have been no observation\n",
        "    - The data might be corrupt\n",
        "- We need to deal with missing data\n",
        "\n",
        "![](https://github.com/anhhaibkhn/Data-Science-selfstudy-notes-Blog/blob/master/_notebooks/Supervised%20Learning%20with%20scikit-learn/images/missing_1.png?raw=1)\n",
        "\n",
        "![](https://github.com/anhhaibkhn/Data-Science-selfstudy-notes-Blog/blob/master/_notebooks/Supervised%20Learning%20with%20scikit-learn/images/missing_2.png?raw=1)\n",
        "\n",
        "![](https://github.com/anhhaibkhn/Data-Science-selfstudy-notes-Blog/blob/master/_notebooks/Supervised%20Learning%20with%20scikit-learn/images/missing_3.png?raw=1)\n",
        "\n",
        "![](https://github.com/anhhaibkhn/Data-Science-selfstudy-notes-Blog/blob/master/_notebooks/Supervised%20Learning%20with%20scikit-learn/images/missing_4.png?raw=1)\n",
        "\n",
        "![](https://github.com/anhhaibkhn/Data-Science-selfstudy-notes-Blog/blob/master/_notebooks/Supervised%20Learning%20with%20scikit-learn/images/missing_5.png?raw=1)\n",
        "\n",
        "![](https://github.com/anhhaibkhn/Data-Science-selfstudy-notes-Blog/blob/master/_notebooks/Supervised%20Learning%20with%20scikit-learn/images/missing_6.png?raw=1)\n",
        "\n",
        "![](https://github.com/anhhaibkhn/Data-Science-selfstudy-notes-Blog/blob/master/_notebooks/Supervised%20Learning%20with%20scikit-learn/images/missing_7.png?raw=1)"
      ]
    },
    {
      "cell_type": "markdown",
      "metadata": {
        "id": "BwmHcSwuwLgA"
      },
      "source": [
        "\n",
        "### Dropping missing data\n",
        "\n",
        "Over the next three exercises, you are going to tidy the music_df dataset. You will create a pipeline to impute missing values and build a KNN classifier model, then use it to predict whether a song is of the \"Rock\" genre.\n",
        "\n",
        "In this exercise specifically, you will drop missing values accounting for less than 5% of the dataset, and convert the \"genre\" column into a binary feature.\n",
        "\n",
        "Instructions:\n",
        "- Print the number of missing values for each column in the music_df dataset, sorted in ascending order."
      ]
    },
    {
      "cell_type": "code",
      "execution_count": null,
      "metadata": {
        "id": "RqYXiIfVwLgA"
      },
      "outputs": [],
      "source": [
        "# Print missing values for each column\n",
        "print(music_df.isna().sum().sort_values())"
      ]
    },
    {
      "cell_type": "markdown",
      "metadata": {
        "id": "74s09fBBwLgA"
      },
      "source": [
        "- Remove values for all columns with 50 or fewer missing values."
      ]
    },
    {
      "cell_type": "code",
      "execution_count": null,
      "metadata": {
        "id": "2g9hokhjwLgA"
      },
      "outputs": [],
      "source": [
        "# Print missing values for each column\n",
        "print(music_df.isna().sum().sort_values())\n",
        "lessthan50NanCols = [i for i in music_df.columns if music_df[i].isna().sum() <= 50]\n",
        "\n",
        "# Remove values where less than 5% are missing\n",
        "music_df = music_df.dropna(subset = lessthan50NanCols)"
      ]
    },
    {
      "cell_type": "markdown",
      "metadata": {
        "id": "M6C5Sa2nwLgA"
      },
      "source": [
        "- Convert music_df[\"genre\"] to values of 1 if the row contains \"Rock\", otherwise change the value to 0."
      ]
    },
    {
      "cell_type": "code",
      "execution_count": null,
      "metadata": {
        "id": "O9tNvmpcwLgA"
      },
      "outputs": [],
      "source": [
        "# Print missing values for each column\n",
        "print(music_df.isna().sum().sort_values())\n",
        "\n",
        "# Remove values where less than 5% are missing\n",
        "music_df = music_df.dropna(subset=[\"genre\", \"popularity\", \"loudness\", \"liveness\", \"tempo\"])\n",
        "\n",
        "# Convert genre to a binary feature\n",
        "music_df[\"genre\"] = np.where(music_df[\"genre\"] == \"Rock\", 1, 0)\n",
        "\n",
        "print(music_df.isna().sum().sort_values())\n",
        "print(\"Shape of the `music_df`: {}\".format(music_df.shape))"
      ]
    },
    {
      "cell_type": "markdown",
      "metadata": {
        "id": "_l6xV6emwLgB"
      },
      "source": [
        "### Pipeline for song genre prediction: I\n",
        "\n",
        "Now it's time to build a pipeline. It will contain steps to impute missing values using the mean for each feature and build a KNN model for the classification of song genre.\n",
        "\n",
        "The modified music_df dataset that you created in the previous exercise has been preloaded for you, along with KNeighborsClassifier and train_test_split.\n",
        "\n",
        "Instructions:\n",
        "- Import SimpleImputer and Pipeline.\n",
        "- Instantiate an imputer.\n",
        "- Instantiate a KNN classifier with three neighbors.\n",
        "- Create steps, a list of tuples containing the imputer variable you created, called \"imputer\", followed by the knn model you created,"
      ]
    },
    {
      "cell_type": "code",
      "execution_count": null,
      "metadata": {
        "id": "vzJgWuY6wLgB"
      },
      "outputs": [],
      "source": [
        "# Import modules\n",
        "from sklearn.pipeline import Pipeline\n",
        "from sklearn.impute import SimpleImputer\n",
        "from sklearn.neighbors import KNeighborsClassifier\n",
        "from sklearn.metrics import confusion_matrix\n",
        "\n",
        "# Instantiate an imputer\n",
        "imputer = SimpleImputer(strategy=\"most_frequent\")\n",
        "\n",
        "# Instantiate a knn model\n",
        "knn = KNeighborsClassifier(n_neighbors=3)\n",
        "\n",
        "# Build steps for the pipeline\n",
        "steps = [(\"imputer\", imputer),\n",
        "         (\"knn\", knn)]"
      ]
    },
    {
      "cell_type": "markdown",
      "metadata": {
        "id": "B6WE--7HwLgB"
      },
      "source": [
        "\n",
        "### Pipeline for song genre prediction: II\n",
        "Having set up the steps of the pipeline in the previous exercise, you will now use it on the music_df dataset to classify the genre of songs. What makes pipelines so incredibly useful is the simple interface that they provide.\n",
        "\n",
        "X_train, X_test, y_train, and y_test have been preloaded for you, and confusion_matrix has been imported from sklearn.metrics.\n",
        "\n",
        "Instructions:\n",
        "- Create a pipeline using the steps you previously defined.\n",
        "- Fit the pipeline to the training data.\n",
        "- Make predictions on the test set.\n",
        "- Calculate and print the confusion matrix."
      ]
    },
    {
      "cell_type": "code",
      "execution_count": null,
      "metadata": {
        "id": "b14kWcOFwLgB"
      },
      "outputs": [],
      "source": [
        "imp_mean = SimpleImputer(strategy=\"mean\")"
      ]
    },
    {
      "cell_type": "code",
      "execution_count": null,
      "metadata": {
        "id": "Wh4aA1sHwLgB"
      },
      "outputs": [],
      "source": [
        "steps = [(\"imputer\", imp_mean),\n",
        "        (\"knn\", knn)]\n",
        "\n",
        "# Create the pipeline\n",
        "pipeline = Pipeline(steps)\n",
        "\n",
        "# Fit the pipeline to the training data\n",
        "pipeline.fit(X_train, y_train)\n",
        "\n",
        "# Make predictions on the test set\n",
        "y_pred = pipeline.predict(X_test)\n",
        "\n",
        "# Print the confusion matrix\n",
        "print(confusion_matrix(y_test, y_pred))"
      ]
    },
    {
      "cell_type": "markdown",
      "metadata": {
        "id": "TIFmRuKZwLgB"
      },
      "source": [
        "## Centering and scaling\n",
        "\n",
        "![](https://github.com/anhhaibkhn/Data-Science-selfstudy-notes-Blog/blob/master/_notebooks/Supervised%20Learning%20with%20scikit-learn/images/scale1.png?raw=1)\n",
        "\n",
        "\n",
        "### Why scale our data?\n",
        "- Many models use some form of distance to inform them\n",
        "- Features on larger scales can disproportionately influence the model\n",
        "- Example: KNN uses distance explicitly when making predictions\n",
        "- We want features to be on a similar scale\n",
        "- Normalizing or standardizing (scaling and centering)\n",
        "\n",
        "### How to scale our data\n",
        "- Subtract the mean and divide by variance\n",
        "    - All features are centered around zero and have a variance of one\n",
        "    - This is called **standardization**\n",
        "- Can also subtract the minimum and divide by the range\n",
        "    - Minimum zero and maximum one\n",
        "- Can also normarmalize so the data ranges from -1 to +1\n",
        "- See scikit-learn docs for further details\n",
        "\n",
        "\n",
        "\n",
        "### Scaling in scikit-learn\n",
        "```python\n",
        "from sklearn.preprocessing import StandardScaler\n",
        "\n",
        "X = music_df.drop(\"genre\", axis=1).values\n",
        "y = music_df[\"genre\"].values\n",
        "\n",
        "X_train, X_test, y_train, y_test = train_test_split(X, y, test_size=0.2, random_state=42)\n",
        "\n",
        "scaler = StandardScaler()\n",
        "\n",
        "X_train_scaled = scaler.fit_transform(X_train)\n",
        "X_test_scaled = scaler.transform(X_test)\n",
        "\n",
        "print(np.mean(X), np.std(X))\n",
        "print(np.mean(X_train_scaled), np.std(X_train_scaled))\n",
        "\n",
        "```\n",
        "\n",
        "### Scaling in a pipeline\n",
        "``` python\n",
        "\n",
        "steps = [('scaler', StandardScaler()),('knn', KNeighborsClassifier(n_neighbors=6))]\n",
        "pipeline = Pipeline(steps)\n",
        "\n",
        "X_train, X_test, y_train, y_test = train_test_split(X, y, test_size=0.2, random_state=21)\n",
        "\n",
        "knn_scaled = pipeline.fit(X_train, y_train)\n",
        "y_pred = knn_scaled.predict(X_test)\n",
        "print(knn_scaled.score(X_test, y_test))\n",
        "```\n",
        "\n",
        "### Comparing performance using unscaled data\n",
        "```python\n",
        "X_train, X_test, y_train, y_test = train_test_split(X, y, test_size=0.2, random_state=21)\n",
        "knn_unscaled = KNeighborsClassifier(n_neighbors=6).fit(X_train, y_train)\n",
        "print(knn_unscaled.score(X_test, y_test))\n",
        "```"
      ]
    },
    {
      "cell_type": "markdown",
      "metadata": {
        "id": "vJzFo0yKwLgB"
      },
      "source": [
        "### CV and scaling in a pipeline\n",
        "```python\n",
        "from sklearn.model_selection import GridSearchCV\n",
        "\n",
        "steps = [('scaler', StandardScaler()),('knn', KNeighborsClassifier())]\n",
        "\n",
        "pipeline = Pipeline(steps)\n",
        "parameters = {\"knn__n_neighbors\": np.arange(1, 50)}\n",
        "X_train, X_test, y_train, y_test = train_test_split(X, y, test_size=0.2,random_state=21)\n",
        "\n",
        "cv = GridSearchCV(pipeline, param_grid=parameters)\n",
        "cv.fit(X_train, y_train)\n",
        "y_pred = cv.predict(X_test)\n",
        "```"
      ]
    },
    {
      "cell_type": "markdown",
      "metadata": {
        "id": "ZVrdaF0rwLgB"
      },
      "source": [
        "### Centering and scaling for regression (Exercise)\n",
        "\n",
        "Now you have seen the benefits of scaling your data, you will use a pipeline to preprocess the music_df features and build a lasso regression model to predict a song's loudness.\n",
        "\n",
        "X_train, X_test, y_train, and y_test have been created from the music_df dataset, where the target is \"loudness\" and the features are all other columns in the dataset. Lasso and Pipeline have also been imported for you.\n",
        "\n",
        "Note that \"genre\" has been converted to a binary feature where 1 indicates a rock song, and 0 represents other genres.\n",
        "\n",
        "Instructions:\n",
        "- Import StandardScaler.\n",
        "- Create the steps for the pipeline object, a StandardScaler object called \"scaler\", and a lasso model called \"lasso\" with alpha set to 0.5.\n",
        "- Instantiate a pipeline with steps to scale and build a lasso regression model.\n",
        "- Calculate the R-squared value on the test data."
      ]
    },
    {
      "cell_type": "code",
      "execution_count": null,
      "metadata": {
        "id": "qzDNbptdwLgB"
      },
      "outputs": [],
      "source": [
        "# Import StandardScaler\n",
        "from sklearn.preprocessing import StandardScaler\n",
        "from sklearn.linear_model import Lasso\n",
        "\n",
        "# Create pipeline steps\n",
        "steps = [(\"scaler\", StandardScaler()),\n",
        "         (\"lasso\", Lasso(alpha=0.5))]\n",
        "\n",
        "# Instantiate the pipeline\n",
        "pipeline = Pipeline(steps)\n",
        "pipeline.fit(X_train, y_train)\n",
        "\n",
        "# Calculate and print R-squared\n",
        "print(pipeline.score(X_test, y_test))"
      ]
    },
    {
      "cell_type": "markdown",
      "metadata": {
        "id": "i1GlDrlEwLgB"
      },
      "source": [
        "\n",
        "### Centering and scaling for  classification (Exercise)\n",
        "\n",
        "Now you will bring together scaling and model building into a pipeline for cross-validation.\n",
        "\n",
        "Your task is to build a pipeline to scale features in the music_df dataset and perform grid search cross-validation using a logistic regression model with different values for the hyperparameter C. The target variable here is \"genre\", which contains binary values for rock as 1 and any other genre as 0.\n",
        "\n",
        "StandardScaler, LogisticRegression, and GridSearchCV have all been imported for you.\n",
        "\n",
        "Instructions:\n",
        "- Build the steps for the pipeline: a StandardScaler() object named \"scaler\", and a logistic regression model named \"logreg\".\n",
        "- Create the parameters, searching 20 equally spaced float values ranging from 0.001 to 1.0 for the logistic regression model's C hyperparameter within the pipeline.\n",
        "- Instantiate the grid search object.\n",
        "- Fit the grid search object to the training data."
      ]
    },
    {
      "cell_type": "code",
      "execution_count": null,
      "metadata": {
        "id": "9aIqh28zwLgB"
      },
      "outputs": [],
      "source": [
        "from sklearn.linear_model import LogisticRegression\n",
        "from sklearn.model_selection import GridSearchCV\n",
        "\n",
        "# Build the steps\n",
        "steps = [\n",
        "            (\"scaler\", StandardScaler()),\n",
        "            (\"logreg\", LogisticRegression())\n",
        "         ]\n",
        "pipeline = Pipeline(steps)\n",
        "\n",
        "# Create the parameter space\n",
        "parameters = {\"logreg__C\": np.linspace(0.001, 1.0, 20)}\n",
        "X_train, X_test, y_train, y_test = train_test_split(X, y, test_size=0.2,\n",
        "                                                    random_state=21)\n",
        "\n",
        "# Instantiate the grid search object\n",
        "cv = GridSearchCV(pipeline, param_grid=parameters)\n",
        "\n",
        "# Fit to the training data\n",
        "cv.fit(X_train, y_train)\n",
        "print(cv.best_score_, \"\\n\", cv.best_params_)"
      ]
    },
    {
      "cell_type": "markdown",
      "metadata": {
        "id": "DciPiW6MwLgB"
      },
      "source": [
        "## Evaluating multiple models\n",
        "\n",
        "Different models for different problems\n",
        "### Some guiding principles\n",
        "\n",
        "- Size of the dataset\n",
        "    - Fewer features = simpler model, faster training time\n",
        "    - Some models require large amounts of data to perform well\n",
        "\n",
        "- Interpretability\n",
        "    - Some models are easier to explain, which can be important for stakeholders\n",
        "    - Linear regression has high interpretability, as we can understand the coefficients\n",
        "\n",
        "- Flexibility\n",
        "    - May improve accuracy, by making fewer assumptions about data\n",
        "    - KNN is a more flexible model, doesn't assume any linear relationships\n",
        "\n",
        "\n",
        "### It's all in the metrics\n",
        "- Regression model performance:\n",
        "    - RMSE\n",
        "    - R-squared\n",
        "\n",
        "- Classification model performance:\n",
        "    - Accuracy\n",
        "    - Confusion matrix\n",
        "    - Precision, recall, F1-score\n",
        "    - ROC AUC\n",
        "\n",
        "- Train several models and evaluate performance out of the box\n",
        "\n",
        "### A note on scaling\n",
        "\n",
        "- Models a(ected by scaling:\n",
        "    - KNN\n",
        "    - Linear Regression (plus Ridge, Lasso)\n",
        "    - Logistic Regression\n",
        "    - Artificial Neural Network\n",
        "- Best to scale our data before evaluating models\n",
        "\n",
        "\n",
        "### Evaluating classification models\n",
        "``` python\n",
        "import matplotlib.pyplot as plt\n",
        "from sklearn.preprocessing import StandardScaler\n",
        "from sklearn.model_selection import cross_val_score, KFold, train_test_split\n",
        "from sklearn.neighbors import KNeighborsClassifier\n",
        "from sklearn.linear_model import LogisticRegression\n",
        "from sklearn.tree import DecisionTreeClassifier\n",
        "\n",
        "X = music.drop(\"genre\", axis=1).values\n",
        "y = music[\"genre\"].values\n",
        "X_train, X_test, y_train, y_test = train_test_split(X, y, random_state=42)\n",
        "scaler = StandardScaler()\n",
        "X_train_scaled = scaler.fit_transform(X_train)\n",
        "X_test_scaled = scaler.transform(X_test)\n",
        "\n",
        "```\n",
        "\n",
        "### Evaluating classification models\n",
        "``` python\n",
        "\n",
        "models = {  \n",
        "            \"Logistic Regression\": LogisticRegression(),\n",
        "            \"KNN\": KNeighborsClassifier(),\n",
        "            \"Decision Tree\": DecisionTreeClassifier()\n",
        "        }\n",
        "\n",
        "results = []\n",
        "for model in models.values():\n",
        "    kf = KFold(n_splits=6, random_state=42, shuffle=True)\n",
        "    cv_results = cross_val_score(model, X_train_scaled, y_train, cv=kf)\n",
        "    results.append(cv_results)\n",
        "plt.boxplot(results, labels=models.keys())\n",
        "plt.show()\n",
        "```\n",
        "\n",
        "![](https://github.com/anhhaibkhn/Data-Science-selfstudy-notes-Blog/blob/master/_notebooks/Supervised%20Learning%20with%20scikit-learn/images/viz.png?raw=1)"
      ]
    },
    {
      "cell_type": "markdown",
      "metadata": {
        "id": "eY980_V-wLgB"
      },
      "source": [
        "\n",
        "### Visualizing regression model performance (Exercise)\n",
        "\n",
        "Now you have seen how to evaluate multiple models out of the box, you will build three regression models to predict a song's \"energy\" levels.\n",
        "\n",
        "The music_df dataset has had dummy variables for \"genre\" added. Also, feature and target arrays have been created, and these have been split into X_train, X_test, y_train, and y_test.\n",
        "\n",
        "The following have been imported for you: LinearRegression, Ridge, Lasso, cross_val_score, and KFold.\n",
        "\n",
        "Instructions:\n",
        "- Write a for loop using model as the iterator, and model.values() as the iterable.\n",
        "- Perform cross-validation on the training features and the training target array using the model, setting cv equal to the KFold object.\n",
        "- Append the model's cross-validation scores to the results list.\n",
        "- Create a box plot displaying the results, with the x-axis labels as the names of the models."
      ]
    },
    {
      "cell_type": "code",
      "execution_count": null,
      "metadata": {
        "id": "lUDHRaViwLgB"
      },
      "outputs": [],
      "source": [
        "models = {\n",
        "            \"Linear Regression\": LinearRegression(),\n",
        "            \"Ridge\": Ridge(alpha=0.1),\n",
        "            \"Lasso\": Lasso(alpha=0.1)\n",
        "            }\n",
        "results = []\n",
        "\n",
        "# Loop through the models' values\n",
        "for model in models.values():\n",
        "  kf = KFold(n_splits=6, random_state=42, shuffle=True)\n",
        "\n",
        "  # Perform cross-validation\n",
        "  cv_scores = cross_val_score(model, X_train, y_train, cv=kf)\n",
        "\n",
        "  # Append the results\n",
        "  results.append(cv_scores)\n",
        "\n",
        "# Create a box plot of the results\n",
        "plt.boxplot(results, labels=models.keys())\n",
        "plt.show()"
      ]
    },
    {
      "cell_type": "markdown",
      "metadata": {
        "id": "SvZ4pr3zwLgE"
      },
      "source": [
        "### Predicting on the test set (Exercise)\n",
        "In the last exercise, linear regression and ridge appeared to produce similar results. It would be appropriate to select either of those models; however, you can check predictive performance on the test set to see if either one can outperform the other.\n",
        "\n",
        "You will use root mean squared error (RMSE) as the metric. The dictionary models, containing the names and instances of the two models, has been preloaded for you along with the training and target arrays X_train_scaled, X_test_scaled, y_train, and y_test.\n",
        "\n",
        "Instructions:\n",
        "- Import mean_squared_error.\n",
        "- Fit the model to the scaled training features and the training labels.\n",
        "- Make predictions using the scaled test features.\n",
        "- Calculate RMSE by passing the test set labels and the predicted labels."
      ]
    },
    {
      "cell_type": "code",
      "execution_count": null,
      "metadata": {
        "id": "fzTjZ-bOwLgF"
      },
      "outputs": [],
      "source": [
        "# Import mean_squared_error\n",
        "from sklearn.metrics import mean_squared_error\n",
        "\n",
        "for name, model in models.items():\n",
        "\n",
        "  # Fit the model to the training data\n",
        "  model.fit(X_train_scaled, y_train)\n",
        "\n",
        "  # Make predictions on the test set\n",
        "  y_pred = model.predict(X_test_scaled)\n",
        "\n",
        "  # Calculate the test_rmse\n",
        "  test_rmse = mean_squared_error(y_test, y_pred, squared=False)\n",
        "  print(\"{} Test Set RMSE: {}\".format(name, test_rmse))"
      ]
    },
    {
      "cell_type": "markdown",
      "metadata": {
        "id": "gG2Xo8tKwLgF"
      },
      "source": [
        "### Visualizing classification model performance (Exercise)\n",
        "\n",
        "In this exercise, you will be solving a classification problem where the \"popularity\" column in the music_df dataset has been converted to binary values, with 1 representing popularity more than or equal to the median for the \"popularity\" column, and 0 indicating popularity below the median.\n",
        "\n",
        "Your task is to build and visualize the results of three different models to classify whether a song is popular or not.\n",
        "\n",
        "The data has been split, scaled, and preloaded for you as X_train_scaled, X_test_scaled, y_train, and y_test. Additionally, KNeighborsClassifier, DecisionTreeClassifier, and LogisticRegression have been imported.\n",
        "\n",
        "Instructions:\n",
        "- Create a dictionary of \"Logistic Regression\", \"KNN\", and \"Decision Tree Classifier\", setting the dictionary's values to a call of each model.\n",
        "- Loop through the values in models.\n",
        "- Instantiate a KFold object to perform 6 splits, setting shuffle to True and random_state to 12.\n",
        "- Perform cross-validation using the model, the scaled training features, the target training set, and setting cv equal to kf."
      ]
    },
    {
      "cell_type": "code",
      "execution_count": null,
      "metadata": {
        "id": "4g8YU-A-wLgF"
      },
      "outputs": [],
      "source": [
        "# Create models dictionary\n",
        "models = {\"Logistic Regression\": LogisticRegression(),\n",
        "          \"KNN\": KNeighborsClassifier(),\n",
        "          \"Decision Tree Classifier\": DecisionTreeClassifier()}\n",
        "results = []\n",
        "\n",
        "# Loop through the models' values\n",
        "for model in models.values():\n",
        "\n",
        "  # Instantiate a KFold object\n",
        "  kf = KFold(n_splits=6, random_state=12, shuffle=True)\n",
        "\n",
        "  # Perform cross-validation\n",
        "  cv_results = cross_val_score(model, X_train_scaled, y_train, cv=kf)\n",
        "  results.append(cv_results)\n",
        "plt.boxplot(results, labels=models.keys())\n",
        "plt.show()"
      ]
    },
    {
      "cell_type": "markdown",
      "metadata": {
        "id": "5goedvewwLgF"
      },
      "source": [
        "\n",
        "### Pipeline for predicting song popularity (Exercise)\n",
        "For the final exercise, you will build a pipeline to impute missing values, scale features, and perform hyperparameter tuning of a logistic regression model. The aim is to find the best parameters and accuracy when predicting song genre!\n",
        "\n",
        "All the models and objects required to build the pipeline have been preloaded for you.\n",
        "\n",
        "Instructions:\n",
        "- Create the steps for the pipeline by calling a simple imputer, a standard scaler, and a logistic regression model.\n",
        "- Create a pipeline object, and pass the steps variable.\n",
        "- Instantiate a grid search object to perform cross-validation using the pipeline and the parameters.\n",
        "- Print the best parameters and compute and print the test set accuracy score for the grid search object."
      ]
    },
    {
      "cell_type": "code",
      "execution_count": null,
      "metadata": {
        "id": "Pv3QwSX0wLgF"
      },
      "outputs": [],
      "source": [
        "# Create steps\n",
        "steps = [(\"imp_mean\", SimpleImputer()),\n",
        "         (\"scaler\", StandardScaler()),\n",
        "         (\"logreg\", LogisticRegression())]\n",
        "\n",
        "# Set up pipeline\n",
        "pipeline = Pipeline(steps)\n",
        "params = {\"logreg__solver\": [\"newton-cg\", \"saga\", \"lbfgs\"],\n",
        "         \"logreg__C\": np.linspace(0.001, 1.0, 10)}\n",
        "\n",
        "# Create the GridSearchCV object\n",
        "tuning = GridSearchCV(pipeline, param_grid=params)\n",
        "tuning.fit(X_train, y_train)\n",
        "y_pred = tuning.predict(X_test)\n",
        "\n",
        "# Compute and print performance\n",
        "print(\"Tuned Logistic Regression Parameters: {}, Accuracy: {}\".format(tuning.best_params_, tuning.score(X_test, y_test)))"
      ]
    },
    {
      "cell_type": "markdown",
      "metadata": {
        "id": "HydvTWo5wLgF"
      },
      "source": [
        "## What you've covered\n",
        "\n",
        "- Using supervised learning techniques to build predictive models\n",
        "- For both regression and classi,cation problems\n",
        "- Underfitting and overfittng\n",
        "- How to split data\n",
        "- Cross-validation\n",
        "- Data preprocessing techniques\n",
        "- Model selection\n",
        "- Hyperparameter tuning\n",
        "- Model performance evaluation\n",
        "- Using pipelines"
      ]
    }
  ],
  "metadata": {
    "kernelspec": {
      "display_name": "Python 3.9.12 ('my_conda_env')",
      "language": "python",
      "name": "python3"
    },
    "language_info": {
      "codemirror_mode": {
        "name": "ipython",
        "version": 3
      },
      "file_extension": ".py",
      "mimetype": "text/x-python",
      "name": "python",
      "nbconvert_exporter": "python",
      "pygments_lexer": "ipython3",
      "version": "3.9.13"
    },
    "orig_nbformat": 4,
    "vscode": {
      "interpreter": {
        "hash": "0f080ef3f7e154a5496448b61eb994fbc79c03fae547c033702ffc1b7b2a346b"
      }
    },
    "colab": {
      "provenance": [],
      "include_colab_link": true
    }
  },
  "nbformat": 4,
  "nbformat_minor": 0
}